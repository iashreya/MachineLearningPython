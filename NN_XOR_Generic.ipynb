{
 "cells": [
  {
   "cell_type": "markdown",
   "metadata": {},
   "source": [
    "<h3>Simulating a neural network for an XOR Gate</h3>"
   ]
  },
  {
   "cell_type": "markdown",
   "metadata": {},
   "source": [
    "_Importing Libraries_"
   ]
  },
  {
   "cell_type": "code",
   "execution_count": 380,
   "metadata": {},
   "outputs": [],
   "source": [
    "import numpy as np\n",
    "import matplotlib.pyplot as plt\n",
    "import pandas as pd"
   ]
  },
  {
   "cell_type": "markdown",
   "metadata": {},
   "source": [
    "_Creating a dataset for XOR training. Here,C1 represents first input to XOR and C2 represents second input._"
   ]
  },
  {
   "cell_type": "code",
   "execution_count": 381,
   "metadata": {},
   "outputs": [
    {
     "name": "stdout",
     "output_type": "stream",
     "text": [
      "0 [1 1 0]\n",
      "1 [1 0 1]\n",
      "2 [0 1 1]\n",
      "3 [0 0 0]\n"
     ]
    }
   ],
   "source": [
    "dataset = np.array([[1,1,0],[1,0,1],[0,1,1],[0,0,0]])\n",
    "for i, item in enumerate(dataset):\n",
    "    print(i, item)"
   ]
  },
  {
   "cell_type": "markdown",
   "metadata": {},
   "source": [
    "_Dividing the data into training_variables set **_x_** and ouput_variables set **_y_**_"
   ]
  },
  {
   "cell_type": "code",
   "execution_count": 383,
   "metadata": {},
   "outputs": [],
   "source": [
    "x = dataset[:, 0:2]\n",
    "y = dataset[:, 2:]"
   ]
  },
  {
   "cell_type": "markdown",
   "metadata": {},
   "source": [
    "_The datasets x and y look something like this_"
   ]
  },
  {
   "cell_type": "code",
   "execution_count": 385,
   "metadata": {},
   "outputs": [
    {
     "name": "stdout",
     "output_type": "stream",
     "text": [
      "[1 1] [0]\n",
      "[1 0] [1]\n",
      "[0 1] [1]\n",
      "[0 0] [0]\n"
     ]
    }
   ],
   "source": [
    "for i in range(4):\n",
    "    print(x[i], y[i])"
   ]
  },
  {
   "cell_type": "markdown",
   "metadata": {},
   "source": [
    "**_NEURAL NETWORK CLASS DEFINITION_**"
   ]
  },
  {
   "cell_type": "code",
   "execution_count": 406,
   "metadata": {},
   "outputs": [],
   "source": [
    "class Network():\n",
    "    def __init__(self, layers, x, y):\n",
    "        self.learning_rate = 1e-2\n",
    "        self.weights = []\n",
    "        self.biases = []\n",
    "        self.n_layers = len(layers)-1\n",
    "        self.m = len(x)\n",
    "        self.n = len(x[0])\n",
    "        \n",
    "        #Initializing weights and biases\n",
    "        for i in range(self.n_layers):\n",
    "            self.weights.append(np.random.rand(layers[i+1], layers[i]))\n",
    "            self.biases.append(np.random.rand(layers[i+1]))\n",
    "            \n",
    "    def feedforward(self):\n",
    "        self.z = []\n",
    "        self.a = []\n",
    "        self.z.append(x)\n",
    "        self.a.append(x)\n",
    "        \n",
    "        for i in range(self.n_layers):\n",
    "            self.z.append((self.weights[i].dot(self.z[i].T)).T+self.biases[i])\n",
    "            self.a.append(sigmoid(self.z[i+1]))\n",
    "        \n",
    "            \n",
    "    def cost(self):\n",
    "        self.loss = sum(-y*(np.log10(self.a[-1]))-(1-y)*(np.log10(1-self.a[-1])))*1/self.m\n",
    "        return self.loss\n",
    "    \n",
    "    def backprop(self):\n",
    "        self.delta_l = (self.a[-1]-y)\n",
    "        self.delta_w = self.delta_l.T.dot(self.a[-2])\n",
    "        self.delta_b = (self.delta_l)\n",
    "\n",
    "        for i in range(self.n_layers-1):\n",
    "            self.weights[-i-1] = self.weights[-i-1] - self.learning_rate * self.delta_w\n",
    "            self.biases[-i-1] = self.biases[-i-1] - self.learning_rate * self.delta_b\n",
    "\n",
    "            self.delta_l = (self.delta_l.dot(self.weights[-i-1]))*sigmoid_prime(self.z[-i-2])\n",
    "            self.delta_w = self.delta_l.T.dot(self.a[-i-3])\n",
    "            self.delta_b = self.delta_l\n",
    "\n",
    "            \n",
    "    def sigmoid(z):\n",
    "        return (1/(1+np.exp(-z)))\n",
    "    \n",
    "    def sigmoid_prime(z):\n",
    "        return -(np.exp(-z)/np.multiply((1+np.exp(-z)),(1+np.exp(-z))))\n",
    "    \n",
    "        "
   ]
  },
  {
   "cell_type": "code",
   "execution_count": 407,
   "metadata": {},
   "outputs": [],
   "source": [
    "layers = [2,5,1]\n",
    "n = Network(layers, x, y)"
   ]
  },
  {
   "cell_type": "code",
   "execution_count": 414,
   "metadata": {},
   "outputs": [
    {
     "name": "stdout",
     "output_type": "stream",
     "text": [
      "[0.00406455]\n",
      "[0.00406417]\n",
      "[0.0040638]\n",
      "[0.00406342]\n",
      "[0.00406304]\n",
      "[0.00406267]\n",
      "[0.00406229]\n",
      "[0.00406192]\n",
      "[0.00406154]\n",
      "[0.00406116]\n",
      "[0.00406079]\n",
      "[0.00406041]\n",
      "[0.00406003]\n",
      "[0.00405966]\n",
      "[0.00405928]\n",
      "[0.00405891]\n",
      "[0.00405853]\n",
      "[0.00405815]\n",
      "[0.00405778]\n",
      "[0.0040574]\n",
      "[0.00405703]\n",
      "[0.00405665]\n",
      "[0.00405628]\n",
      "[0.0040559]\n",
      "[0.00405553]\n",
      "[0.00405515]\n",
      "[0.00405478]\n",
      "[0.0040544]\n",
      "[0.00405403]\n",
      "[0.00405365]\n",
      "[0.00405328]\n",
      "[0.0040529]\n",
      "[0.00405253]\n",
      "[0.00405215]\n",
      "[0.00405178]\n",
      "[0.0040514]\n",
      "[0.00405103]\n",
      "[0.00405065]\n",
      "[0.00405028]\n",
      "[0.00404991]\n",
      "[0.00404953]\n",
      "[0.00404916]\n",
      "[0.00404878]\n",
      "[0.00404841]\n",
      "[0.00404804]\n",
      "[0.00404766]\n",
      "[0.00404729]\n",
      "[0.00404692]\n",
      "[0.00404654]\n",
      "[0.00404617]\n",
      "[0.00404579]\n",
      "[0.00404542]\n",
      "[0.00404505]\n",
      "[0.00404467]\n",
      "[0.0040443]\n",
      "[0.00404393]\n",
      "[0.00404356]\n",
      "[0.00404318]\n",
      "[0.00404281]\n",
      "[0.00404244]\n",
      "[0.00404206]\n",
      "[0.00404169]\n",
      "[0.00404132]\n",
      "[0.00404095]\n",
      "[0.00404057]\n",
      "[0.0040402]\n",
      "[0.00403983]\n",
      "[0.00403946]\n",
      "[0.00403908]\n",
      "[0.00403871]\n",
      "[0.00403834]\n",
      "[0.00403797]\n",
      "[0.0040376]\n",
      "[0.00403722]\n",
      "[0.00403685]\n",
      "[0.00403648]\n",
      "[0.00403611]\n",
      "[0.00403574]\n",
      "[0.00403537]\n",
      "[0.00403499]\n",
      "[0.00403462]\n",
      "[0.00403425]\n",
      "[0.00403388]\n",
      "[0.00403351]\n",
      "[0.00403314]\n",
      "[0.00403277]\n",
      "[0.0040324]\n",
      "[0.00403202]\n",
      "[0.00403165]\n",
      "[0.00403128]\n",
      "[0.00403091]\n",
      "[0.00403054]\n",
      "[0.00403017]\n",
      "[0.0040298]\n",
      "[0.00402943]\n",
      "[0.00402906]\n",
      "[0.00402869]\n",
      "[0.00402832]\n",
      "[0.00402795]\n",
      "[0.00402758]\n",
      "[0.00402721]\n",
      "[0.00402684]\n",
      "[0.00402647]\n",
      "[0.0040261]\n",
      "[0.00402573]\n",
      "[0.00402536]\n",
      "[0.00402499]\n",
      "[0.00402462]\n",
      "[0.00402425]\n",
      "[0.00402388]\n",
      "[0.00402351]\n",
      "[0.00402314]\n",
      "[0.00402277]\n",
      "[0.0040224]\n",
      "[0.00402203]\n",
      "[0.00402167]\n",
      "[0.0040213]\n",
      "[0.00402093]\n",
      "[0.00402056]\n",
      "[0.00402019]\n",
      "[0.00401982]\n",
      "[0.00401945]\n",
      "[0.00401908]\n",
      "[0.00401872]\n",
      "[0.00401835]\n",
      "[0.00401798]\n",
      "[0.00401761]\n",
      "[0.00401724]\n",
      "[0.00401687]\n",
      "[0.00401651]\n",
      "[0.00401614]\n",
      "[0.00401577]\n",
      "[0.0040154]\n",
      "[0.00401503]\n",
      "[0.00401467]\n",
      "[0.0040143]\n",
      "[0.00401393]\n",
      "[0.00401356]\n",
      "[0.0040132]\n",
      "[0.00401283]\n",
      "[0.00401246]\n",
      "[0.00401209]\n",
      "[0.00401173]\n",
      "[0.00401136]\n",
      "[0.00401099]\n",
      "[0.00401063]\n",
      "[0.00401026]\n",
      "[0.00400989]\n",
      "[0.00400953]\n",
      "[0.00400916]\n",
      "[0.00400879]\n",
      "[0.00400843]\n",
      "[0.00400806]\n",
      "[0.00400769]\n",
      "[0.00400733]\n",
      "[0.00400696]\n",
      "[0.00400659]\n",
      "[0.00400623]\n",
      "[0.00400586]\n",
      "[0.00400549]\n",
      "[0.00400513]\n",
      "[0.00400476]\n",
      "[0.0040044]\n",
      "[0.00400403]\n",
      "[0.00400367]\n",
      "[0.0040033]\n",
      "[0.00400293]\n",
      "[0.00400257]\n",
      "[0.0040022]\n",
      "[0.00400184]\n",
      "[0.00400147]\n",
      "[0.00400111]\n",
      "[0.00400074]\n",
      "[0.00400038]\n",
      "[0.00400001]\n",
      "[0.00399965]\n",
      "[0.00399928]\n",
      "[0.00399892]\n",
      "[0.00399855]\n",
      "[0.00399819]\n",
      "[0.00399782]\n",
      "[0.00399746]\n",
      "[0.00399709]\n",
      "[0.00399673]\n",
      "[0.00399636]\n",
      "[0.003996]\n",
      "[0.00399564]\n",
      "[0.00399527]\n",
      "[0.00399491]\n",
      "[0.00399454]\n",
      "[0.00399418]\n",
      "[0.00399381]\n",
      "[0.00399345]\n",
      "[0.00399309]\n",
      "[0.00399272]\n",
      "[0.00399236]\n",
      "[0.003992]\n",
      "[0.00399163]\n",
      "[0.00399127]\n",
      "[0.00399091]\n",
      "[0.00399054]\n",
      "[0.00399018]\n",
      "[0.00398982]\n",
      "[0.00398945]\n",
      "[0.00398909]\n",
      "[0.00398873]\n",
      "[0.00398836]\n",
      "[0.003988]\n",
      "[0.00398764]\n",
      "[0.00398727]\n",
      "[0.00398691]\n",
      "[0.00398655]\n",
      "[0.00398619]\n",
      "[0.00398582]\n",
      "[0.00398546]\n",
      "[0.0039851]\n",
      "[0.00398474]\n",
      "[0.00398437]\n",
      "[0.00398401]\n",
      "[0.00398365]\n",
      "[0.00398329]\n",
      "[0.00398293]\n",
      "[0.00398256]\n",
      "[0.0039822]\n",
      "[0.00398184]\n",
      "[0.00398148]\n",
      "[0.00398112]\n",
      "[0.00398076]\n",
      "[0.00398039]\n",
      "[0.00398003]\n",
      "[0.00397967]\n",
      "[0.00397931]\n",
      "[0.00397895]\n",
      "[0.00397859]\n",
      "[0.00397823]\n",
      "[0.00397787]\n",
      "[0.0039775]\n",
      "[0.00397714]\n",
      "[0.00397678]\n",
      "[0.00397642]\n",
      "[0.00397606]\n",
      "[0.0039757]\n",
      "[0.00397534]\n",
      "[0.00397498]\n",
      "[0.00397462]\n",
      "[0.00397426]\n",
      "[0.0039739]\n",
      "[0.00397354]\n",
      "[0.00397318]\n",
      "[0.00397282]\n",
      "[0.00397246]\n",
      "[0.0039721]\n",
      "[0.00397174]\n",
      "[0.00397138]\n",
      "[0.00397102]\n",
      "[0.00397066]\n",
      "[0.0039703]\n",
      "[0.00396994]\n",
      "[0.00396958]\n",
      "[0.00396922]\n",
      "[0.00396886]\n",
      "[0.0039685]\n",
      "[0.00396814]\n",
      "[0.00396778]\n",
      "[0.00396742]\n",
      "[0.00396706]\n",
      "[0.0039667]\n",
      "[0.00396635]\n",
      "[0.00396599]\n",
      "[0.00396563]\n",
      "[0.00396527]\n",
      "[0.00396491]\n",
      "[0.00396455]\n",
      "[0.00396419]\n",
      "[0.00396383]\n",
      "[0.00396348]\n",
      "[0.00396312]\n",
      "[0.00396276]\n",
      "[0.0039624]\n",
      "[0.00396204]\n",
      "[0.00396168]\n",
      "[0.00396133]\n",
      "[0.00396097]\n",
      "[0.00396061]\n",
      "[0.00396025]\n",
      "[0.00395989]\n",
      "[0.00395954]\n",
      "[0.00395918]\n",
      "[0.00395882]\n",
      "[0.00395846]\n",
      "[0.00395811]\n",
      "[0.00395775]\n",
      "[0.00395739]\n",
      "[0.00395703]\n",
      "[0.00395668]\n",
      "[0.00395632]\n",
      "[0.00395596]\n",
      "[0.00395561]\n",
      "[0.00395525]\n",
      "[0.00395489]\n"
     ]
    }
   ],
   "source": [
    "d = []\n",
    "for i in range(300):\n",
    "    n.feedforward()\n",
    "    n.backprop()\n",
    "    print(n.cost())\n",
    "    d.append(n.cost())"
   ]
  },
  {
   "cell_type": "code",
   "execution_count": 409,
   "metadata": {},
   "outputs": [
    {
     "data": {
      "text/plain": [
       "[<matplotlib.lines.Line2D at 0x240d49ef780>]"
      ]
     },
     "execution_count": 409,
     "metadata": {},
     "output_type": "execute_result"
    },
    {
     "data": {
      "image/png": "[encoded data removed]",
      "text/plain": [
       "<Figure size 432x288 with 1 Axes>"
      ]
     },
     "metadata": {
      "needs_background": "light"
     },
     "output_type": "display_data"
    }
   ],
   "source": [
    "lst = np.array([i for i in range(10000)])\n",
    "plt.plot(lst, d)"
   ]
  },
  {
   "cell_type": "markdown",
   "metadata": {},
   "source": [
    "_Predictions on the basis of final weights_"
   ]
  },
  {
   "cell_type": "code",
   "execution_count": 415,
   "metadata": {},
   "outputs": [
    {
     "data": {
      "text/plain": [
       "array([[0.00926703],\n",
       "       [0.9910056 ],\n",
       "       [0.99107276],\n",
       "       [0.00907184]])"
      ]
     },
     "execution_count": 415,
     "metadata": {},
     "output_type": "execute_result"
    }
   ],
   "source": [
    "n.a[-1]"
   ]
  },
  {
   "cell_type": "markdown",
   "metadata": {},
   "source": [
    "_Defining a threshold function to get outputs in understandable terms_"
   ]
  },
  {
   "cell_type": "code",
   "execution_count": 416,
   "metadata": {},
   "outputs": [],
   "source": [
    "def threshold(x):\n",
    "    res = []  \n",
    "    for i in x:\n",
    "        if(i > 0.5):\n",
    "            res.append(1)\n",
    "        else:\n",
    "            res.append(-1)\n",
    "    return(res)"
   ]
  },
  {
   "cell_type": "markdown",
   "metadata": {},
   "source": [
    "_Final results of the XOR Gate_"
   ]
  },
  {
   "cell_type": "code",
   "execution_count": 417,
   "metadata": {},
   "outputs": [
    {
     "data": {
      "text/plain": [
       "[-1, 1, 1, -1]"
      ]
     },
     "execution_count": 417,
     "metadata": {},
     "output_type": "execute_result"
    }
   ],
   "source": [
    "threshold(n.a[-1])"
   ]
  },
  {
   "cell_type": "code",
   "execution_count": null,
   "metadata": {},
   "outputs": [],
   "source": []
  }
 ],
 "metadata": {
  "kernelspec": {
   "display_name": "Python 3",
   "language": "python",
   "name": "python3"
  },
  "language_info": {
   "codemirror_mode": {
    "name": "ipython",
    "version": 3
   },
   "file_extension": ".py",
   "mimetype": "text/x-python",
   "name": "python",
   "nbconvert_exporter": "python",
   "pygments_lexer": "ipython3",
   "version": "3.7.0"
  }
 },
 "nbformat": 4,
 "nbformat_minor": 2
}
