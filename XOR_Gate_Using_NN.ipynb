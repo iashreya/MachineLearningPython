{
 "cells": [
  {
   "cell_type": "markdown",
   "metadata": {},
   "source": [
    "**Simulating a neural network for an XOR Gate**"
   ]
  },
  {
   "cell_type": "markdown",
   "metadata": {},
   "source": [
    "_Importing Libraries_"
   ]
  },
  {
   "cell_type": "code",
   "execution_count": 243,
   "metadata": {},
   "outputs": [],
   "source": [
    "import numpy as np\n",
    "import matplotlib.pyplot as plt\n",
    "import pandas as pd"
   ]
  },
  {
   "cell_type": "markdown",
   "metadata": {},
   "source": [
    "_Creating a dataset for XOR training. Here,C1 represents first input to XOR and C2 represents second input._"
   ]
  },
  {
   "cell_type": "code",
   "execution_count": 244,
   "metadata": {},
   "outputs": [
    {
     "name": "stdout",
     "output_type": "stream",
     "text": [
      "0 [ 1  1 -1]\n",
      "1 [ 1 -1  1]\n",
      "2 [-1  1  1]\n",
      "3 [-1 -1 -1]\n"
     ]
    }
   ],
   "source": [
    "dataset = np.array([[1,1,-1],[1,-1,1],[-1,1,1],[-1,-1,-1]])\n",
    "for i, item in enumerate(dataset):\n",
    "    print(i, item)"
   ]
  },
  {
   "cell_type": "markdown",
   "metadata": {},
   "source": [
    "_Dividing the data into training_variables set **_x_** and ouput_variables set **_y_**_"
   ]
  },
  {
   "cell_type": "code",
   "execution_count": 245,
   "metadata": {},
   "outputs": [],
   "source": [
    "x = dataset[:, 0:2]\n",
    "y = dataset[:, 2:]"
   ]
  },
  {
   "cell_type": "markdown",
   "metadata": {},
   "source": [
    "_The datasets x and y look something like this_"
   ]
  },
  {
   "cell_type": "code",
   "execution_count": 246,
   "metadata": {},
   "outputs": [
    {
     "name": "stdout",
     "output_type": "stream",
     "text": [
      "[1 1] [-1]\n",
      "[ 1 -1] [1]\n",
      "[-1  1] [1]\n",
      "[-1 -1] [-1]\n"
     ]
    }
   ],
   "source": [
    "for i in range(4):\n",
    "    print(x[i], y[i])"
   ]
  },
  {
   "cell_type": "markdown",
   "metadata": {},
   "source": [
    "_Defining the sigmoid and sigmoid prime functions which we would be using later in the algorithm_"
   ]
  },
  {
   "cell_type": "code",
   "execution_count": 247,
   "metadata": {},
   "outputs": [],
   "source": [
    "def sigmoid(z):\n",
    "    return (1/(1+np.exp(-z)))\n",
    "def sigmoid_prime(z):\n",
    "    return -(np.exp(-z)/np.multiply((1+np.exp(-z)),(1+np.exp(-z))))\n",
    "    "
   ]
  },
  {
   "cell_type": "markdown",
   "metadata": {},
   "source": [
    "_An intuition of how these functions behave could be seen from the following curve_"
   ]
  },
  {
   "cell_type": "code",
   "execution_count": 248,
   "metadata": {},
   "outputs": [
    {
     "data": {
      "text/plain": [
       "[<matplotlib.lines.Line2D at 0x21a24aad978>]"
      ]
     },
     "execution_count": 248,
     "metadata": {},
     "output_type": "execute_result"
    },
    {
     "data": {
      "image/png": "[encoded data removed]",
      "text/plain": [
       "<Figure size 432x288 with 1 Axes>"
      ]
     },
     "metadata": {
      "needs_background": "light"
     },
     "output_type": "display_data"
    }
   ],
   "source": [
    "plt.plot(np.array([i for i in range(-10,10)]), sigmoid(np.array([i for i in range(-10, 10)])))\n",
    "plt.plot(np.array([i for i in range(-10,10)]), sigmoid_prime(np.array([i for i in range(-10,10)])))"
   ]
  },
  {
   "cell_type": "markdown",
   "metadata": {},
   "source": [
    "**_THE ALGORITHM_**"
   ]
  },
  {
   "cell_type": "code",
   "execution_count": 261,
   "metadata": {},
   "outputs": [],
   "source": [
    "learning_rate = 1e-2\n",
    "\n",
    "#Initializing weights\n",
    "#The first element denotes neurons of lth layer and the second denotes neurons of (l-1)th layer\n",
    "w1 = np.random.rand(2,2) \n",
    "w2 = np.random.rand(1,2) \n",
    "\n",
    "#Initializing biases\n",
    "#It represents the bias for neurons of a given layer\n",
    "b1 = np.random.rand(2)\n",
    "b2 = np.random.rand(1)\n",
    "\n",
    "#d is a list which stores the value of loss function for each updation of wts. and biases\n",
    "d = []"
   ]
  },
  {
   "cell_type": "code",
   "execution_count": 262,
   "metadata": {},
   "outputs": [
    {
     "name": "stdout",
     "output_type": "stream",
     "text": [
      "0 [0.78339345]\n",
      "1 [0.76784117]\n",
      "2 [0.75238309]\n",
      "3 [0.73702348]\n",
      "4 [0.72176653]\n",
      "5 [0.7066164]\n",
      "6 [0.69157717]\n",
      "7 [0.67665282]\n",
      "8 [0.66184727]\n",
      "9 [0.64716431]\n",
      "10 [0.63260761]\n",
      "11 [0.61818072]\n",
      "12 [0.60388706]\n",
      "13 [0.58972987]\n",
      "14 [0.57571226]\n",
      "15 [0.56183714]\n",
      "16 [0.54810725]\n",
      "17 [0.53452514]\n",
      "18 [0.52109317]\n",
      "19 [0.50781348]\n",
      "20 [0.49468802]\n",
      "21 [0.48171851]\n",
      "22 [0.46890647]\n",
      "23 [0.45625318]\n",
      "24 [0.44375971]\n",
      "25 [0.43142691]\n",
      "26 [0.41925542]\n",
      "27 [0.40724564]\n",
      "28 [0.39539778]\n",
      "29 [0.38371181]\n",
      "30 [0.37218752]\n",
      "31 [0.3608245]\n",
      "32 [0.34962213]\n",
      "33 [0.33857962]\n",
      "34 [0.327696]\n",
      "35 [0.31697014]\n",
      "36 [0.30640073]\n",
      "37 [0.29598632]\n",
      "38 [0.28572534]\n",
      "39 [0.27561607]\n",
      "40 [0.26565666]\n",
      "41 [0.25584518]\n",
      "42 [0.24617959]\n",
      "43 [0.23665775]\n",
      "44 [0.22727745]\n",
      "45 [0.21803641]\n",
      "46 [0.20893228]\n",
      "47 [0.19996268]\n",
      "48 [0.19112516]\n",
      "49 [0.18241724]\n",
      "50 [0.17383644]\n",
      "51 [0.16538023]\n",
      "52 [0.15704607]\n",
      "53 [0.14883143]\n",
      "54 [0.14073376]\n",
      "55 [0.13275053]\n",
      "56 [0.12487921]\n",
      "57 [0.11711729]\n",
      "58 [0.10946227]\n",
      "59 [0.10191169]\n",
      "60 [0.09446309]\n",
      "61 [0.08711407]\n",
      "62 [0.07986224]\n",
      "63 [0.07270525]\n",
      "64 [0.06564078]\n",
      "65 [0.05866658]\n",
      "66 [0.05178039]\n",
      "67 [0.04498002]\n",
      "68 [0.03826334]\n",
      "69 [0.03162821]\n",
      "70 [0.0250726]\n",
      "71 [0.01859446]\n",
      "72 [0.01219184]\n",
      "73 [0.00586279]\n",
      "74 [-0.00039456]\n",
      "75 [-0.00658206]\n",
      "76 [-0.01270151]\n",
      "77 [-0.01875465]\n",
      "78 [-0.02474321]\n",
      "79 [-0.03066883]\n",
      "80 [-0.03653315]\n",
      "81 [-0.04233775]\n",
      "82 [-0.04808416]\n",
      "83 [-0.05377388]\n",
      "84 [-0.05940838]\n",
      "85 [-0.06498908]\n",
      "86 [-0.07051734]\n",
      "87 [-0.07599453]\n",
      "88 [-0.08142193]\n",
      "89 [-0.08680084]\n",
      "90 [-0.09213247]\n",
      "91 [-0.09741803]\n",
      "92 [-0.1026587]\n",
      "93 [-0.10785559]\n",
      "94 [-0.11300983]\n",
      "95 [-0.11812248]\n",
      "96 [-0.12319457]\n",
      "97 [-0.12822714]\n",
      "98 [-0.13322115]\n",
      "99 [-0.13817757]\n",
      "100 [-0.14309732]\n",
      "101 [-0.14798132]\n",
      "102 [-0.15283043]\n",
      "103 [-0.15764551]\n",
      "104 [-0.16242739]\n",
      "105 [-0.16717688]\n",
      "106 [-0.17189475]\n",
      "107 [-0.17658178]\n",
      "108 [-0.18123869]\n",
      "109 [-0.18586621]\n",
      "110 [-0.19046505]\n",
      "111 [-0.19503587]\n",
      "112 [-0.19957934]\n",
      "113 [-0.2040961]\n",
      "114 [-0.20858677]\n",
      "115 [-0.21305197]\n",
      "116 [-0.21749228]\n",
      "117 [-0.22190828]\n",
      "118 [-0.22630053]\n",
      "119 [-0.23066956]\n",
      "120 [-0.23501591]\n",
      "121 [-0.2393401]\n",
      "122 [-0.24364262]\n",
      "123 [-0.24792396]\n",
      "124 [-0.25218459]\n",
      "125 [-0.25642497]\n",
      "126 [-0.26064556]\n",
      "127 [-0.26484679]\n",
      "128 [-0.26902907]\n",
      "129 [-0.27319284]\n",
      "130 [-0.27733849]\n",
      "131 [-0.28146641]\n",
      "132 [-0.28557698]\n",
      "133 [-0.28967058]\n",
      "134 [-0.29374757]\n",
      "135 [-0.2978083]\n",
      "136 [-0.30185312]\n",
      "137 [-0.30588235]\n",
      "138 [-0.30989633]\n",
      "139 [-0.31389537]\n",
      "140 [-0.31787979]\n",
      "141 [-0.32184989]\n",
      "142 [-0.32580595]\n",
      "143 [-0.32974827]\n",
      "144 [-0.33367712]\n",
      "145 [-0.33759279]\n",
      "146 [-0.34149553]\n",
      "147 [-0.3453856]\n",
      "148 [-0.34926326]\n",
      "149 [-0.35312875]\n",
      "150 [-0.35698232]\n",
      "151 [-0.36082419]\n",
      "152 [-0.3646546]\n",
      "153 [-0.36847377]\n",
      "154 [-0.37228192]\n",
      "155 [-0.37607926]\n",
      "156 [-0.379866]\n",
      "157 [-0.38364233]\n",
      "158 [-0.38740847]\n",
      "159 [-0.3911646]\n",
      "160 [-0.3949109]\n",
      "161 [-0.39864757]\n",
      "162 [-0.40237478]\n",
      "163 [-0.40609271]\n",
      "164 [-0.40980153]\n",
      "165 [-0.41350141]\n",
      "166 [-0.4171925]\n",
      "167 [-0.42087497]\n",
      "168 [-0.42454898]\n",
      "169 [-0.42821468]\n",
      "170 [-0.43187221]\n",
      "171 [-0.43552173]\n",
      "172 [-0.43916336]\n",
      "173 [-0.44279726]\n",
      "174 [-0.44642356]\n",
      "175 [-0.45004238]\n",
      "176 [-0.45365387]\n",
      "177 [-0.45725814]\n",
      "178 [-0.46085532]\n",
      "179 [-0.46444553]\n",
      "180 [-0.4680289]\n",
      "181 [-0.47160552]\n",
      "182 [-0.47517553]\n",
      "183 [-0.47873902]\n",
      "184 [-0.48229612]\n",
      "185 [-0.48584691]\n",
      "186 [-0.48939151]\n",
      "187 [-0.49293002]\n",
      "188 [-0.49646253]\n",
      "189 [-0.49998915]\n",
      "190 [-0.50350996]\n",
      "191 [-0.50702507]\n",
      "192 [-0.51053456]\n",
      "193 [-0.51403851]\n",
      "194 [-0.51753703]\n",
      "195 [-0.52103018]\n",
      "196 [-0.52451806]\n",
      "197 [-0.52800075]\n",
      "198 [-0.53147833]\n",
      "199 [-0.53495086]\n",
      "200 [-0.53841844]\n",
      "201 [-0.54188113]\n",
      "202 [-0.54533901]\n",
      "203 [-0.54879215]\n",
      "204 [-0.55224062]\n",
      "205 [-0.55568449]\n",
      "206 [-0.55912382]\n",
      "207 [-0.56255869]\n",
      "208 [-0.56598915]\n",
      "209 [-0.56941526]\n",
      "210 [-0.5728371]\n",
      "211 [-0.57625472]\n",
      "212 [-0.57966818]\n",
      "213 [-0.58307754]\n",
      "214 [-0.58648285]\n",
      "215 [-0.58988417]\n",
      "216 [-0.59328156]\n",
      "217 [-0.59667506]\n",
      "218 [-0.60006474]\n",
      "219 [-0.60345064]\n",
      "220 [-0.60683281]\n",
      "221 [-0.61021129]\n",
      "222 [-0.61358615]\n",
      "223 [-0.61695743]\n",
      "224 [-0.62032516]\n",
      "225 [-0.62368941]\n",
      "226 [-0.62705021]\n",
      "227 [-0.6304076]\n",
      "228 [-0.63376163]\n",
      "229 [-0.63711234]\n",
      "230 [-0.64045977]\n",
      "231 [-0.64380396]\n",
      "232 [-0.64714495]\n",
      "233 [-0.65048278]\n",
      "234 [-0.65381748]\n",
      "235 [-0.6571491]\n",
      "236 [-0.66047767]\n",
      "237 [-0.66380322]\n",
      "238 [-0.66712579]\n",
      "239 [-0.67044542]\n",
      "240 [-0.67376213]\n",
      "241 [-0.67707596]\n",
      "242 [-0.68038695]\n",
      "243 [-0.68369512]\n",
      "244 [-0.6870005]\n",
      "245 [-0.69030313]\n",
      "246 [-0.69360303]\n",
      "247 [-0.69690023]\n",
      "248 [-0.70019477]\n",
      "249 [-0.70348666]\n",
      "250 [-0.70677594]\n",
      "251 [-0.71006264]\n",
      "252 [-0.71334678]\n",
      "253 [-0.71662838]\n",
      "254 [-0.71990748]\n",
      "255 [-0.72318409]\n",
      "256 [-0.72645824]\n",
      "257 [-0.72972995]\n",
      "258 [-0.73299926]\n",
      "259 [-0.73626617]\n",
      "260 [-0.73953072]\n",
      "261 [-0.74279292]\n",
      "262 [-0.74605281]\n",
      "263 [-0.74931038]\n",
      "264 [-0.75256568]\n",
      "265 [-0.75581872]\n",
      "266 [-0.75906952]\n",
      "267 [-0.7623181]\n",
      "268 [-0.76556447]\n",
      "269 [-0.76880867]\n",
      "270 [-0.7720507]\n",
      "271 [-0.77529058]\n",
      "272 [-0.77852834]\n",
      "273 [-0.78176399]\n",
      "274 [-0.78499754]\n",
      "275 [-0.78822902]\n",
      "276 [-0.79145844]\n",
      "277 [-0.79468581]\n",
      "278 [-0.79791116]\n",
      "279 [-0.8011345]\n",
      "280 [-0.80435584]\n",
      "281 [-0.8075752]\n",
      "282 [-0.81079259]\n",
      "283 [-0.81400804]\n",
      "284 [-0.81722154]\n",
      "285 [-0.82043312]\n",
      "286 [-0.8236428]\n",
      "287 [-0.82685057]\n",
      "288 [-0.83005646]\n",
      "289 [-0.83326049]\n",
      "290 [-0.83646265]\n",
      "291 [-0.83966298]\n",
      "292 [-0.84286147]\n",
      "293 [-0.84605814]\n",
      "294 [-0.849253]\n",
      "295 [-0.85244607]\n",
      "296 [-0.85563735]\n",
      "297 [-0.85882686]\n",
      "298 [-0.86201461]\n",
      "299 [-0.8652006]\n"
     ]
    }
   ],
   "source": [
    "#from IPython.core.debugger import set_trace\n",
    "for i in range(300):\n",
    "    h = (w1.dot(x.T)).T+b1          # h is the weighted sum\n",
    "    a = sigmoid(h)                  # a is the activation from the weighted sum\n",
    "    yin = (w2.dot(a.T)).T+b2        # yin is the weighted sum of next layer\n",
    "    y_pred = sigmoid(yin)           # y_pred is the activation of this layer\n",
    "\n",
    "    loss = sum(-y*(np.log10(y_pred))-(1-y)*(np.log10(1-y_pred)))*0.25     # We're using cross-entropy loss \n",
    "    d.append(loss)\n",
    "    print(i,loss)\n",
    "\n",
    "    # Finding gradients and backpropagating it through layers\n",
    "    grad_yin = (y_pred-y)           # grad_yin is delta_L\n",
    "\n",
    "    grad_w2 = grad_yin.T.dot(a)     # grad_w2 is the delta_loss/delta_w2\n",
    "    grad_b2 = grad_yin              # grad_b2 is the delta_loss/delta_b2\n",
    "    grad_h = (grad_yin.dot(w2))*sigmoid_prime(h)    \n",
    "    grad_w1 = sum(grad_h*x)\n",
    "    grad_b1 = sum(grad_h)\n",
    "\n",
    "    \n",
    "    # Updating weights\n",
    "    w1 = w1 - learning_rate * grad_w1\n",
    "    b1 = b1 - learning_rate * grad_b1\n",
    "    w2 = w2 - learning_rate * grad_w2\n",
    "    b2 = b2 - learning_rate * grad_b2\n"
   ]
  },
  {
   "cell_type": "markdown",
   "metadata": {},
   "source": [
    "_This plot shows the loss function as it decreases with each iteration_"
   ]
  },
  {
   "cell_type": "code",
   "execution_count": 252,
   "metadata": {
    "scrolled": true
   },
   "outputs": [
    {
     "data": {
      "text/plain": [
       "[<matplotlib.lines.Line2D at 0x21a21ffaf28>]"
      ]
     },
     "execution_count": 252,
     "metadata": {},
     "output_type": "execute_result"
    },
    {
     "data": {
      "image/png": "[encoded data removed]",
      "text/plain": [
       "<Figure size 432x288 with 1 Axes>"
      ]
     },
     "metadata": {
      "needs_background": "light"
     },
     "output_type": "display_data"
    }
   ],
   "source": [
    "lst = np.array([i for i in range(300)])\n",
    "plt.plot(lst, d)"
   ]
  },
  {
   "cell_type": "markdown",
   "metadata": {},
   "source": [
    "_After 10300 iterations_"
   ]
  },
  {
   "cell_type": "code",
   "execution_count": 258,
   "metadata": {},
   "outputs": [
    {
     "data": {
      "text/plain": [
       "[<matplotlib.lines.Line2D at 0x21a24c5e080>]"
      ]
     },
     "execution_count": 258,
     "metadata": {},
     "output_type": "execute_result"
    },
    {
     "data": {
      "image/png": "[encoded data removed]",
      "text/plain": [
       "<Figure size 432x288 with 1 Axes>"
      ]
     },
     "metadata": {
      "needs_background": "light"
     },
     "output_type": "display_data"
    }
   ],
   "source": [
    "lst = np.array([i for i in range(10300)])\n",
    "plt.plot(lst, d)"
   ]
  },
  {
   "cell_type": "markdown",
   "metadata": {},
   "source": [
    "_Predictions on the basis of final weights_"
   ]
  },
  {
   "cell_type": "code",
   "execution_count": 263,
   "metadata": {},
   "outputs": [
    {
     "data": {
      "text/plain": [
       "array([[0.00249854],\n",
       "       [0.40152331],\n",
       "       [0.56252164],\n",
       "       [0.02933124]])"
      ]
     },
     "execution_count": 263,
     "metadata": {},
     "output_type": "execute_result"
    }
   ],
   "source": [
    "y_pred"
   ]
  },
  {
   "cell_type": "markdown",
   "metadata": {},
   "source": [
    "_Defining a threshold function to get outputs in understandable terms_"
   ]
  },
  {
   "cell_type": "code",
   "execution_count": 264,
   "metadata": {},
   "outputs": [],
   "source": [
    "def threshold(x):\n",
    "    res = []  \n",
    "    for i in x:\n",
    "        if(i > 0.1):\n",
    "            res.append(1)\n",
    "        else:\n",
    "            res.append(-1)\n",
    "    return(res)"
   ]
  },
  {
   "cell_type": "markdown",
   "metadata": {},
   "source": [
    "_Final results of the XOR Gate_"
   ]
  },
  {
   "cell_type": "code",
   "execution_count": 265,
   "metadata": {},
   "outputs": [
    {
     "data": {
      "text/plain": [
       "[-1, 1, 1, -1]"
      ]
     },
     "execution_count": 265,
     "metadata": {},
     "output_type": "execute_result"
    }
   ],
   "source": [
    "threshold(y_pred)"
   ]
  },
  {
   "cell_type": "code",
   "execution_count": null,
   "metadata": {},
   "outputs": [],
   "source": []
  }
 ],
 "metadata": {
  "kernelspec": {
   "display_name": "Python 3",
   "language": "python",
   "name": "python3"
  },
  "language_info": {
   "codemirror_mode": {
    "name": "ipython",
    "version": 3
   },
   "file_extension": ".py",
   "mimetype": "text/x-python",
   "name": "python",
   "nbconvert_exporter": "python",
   "pygments_lexer": "ipython3",
   "version": "3.7.0"
  }
 },
 "nbformat": 4,
 "nbformat_minor": 2
}
